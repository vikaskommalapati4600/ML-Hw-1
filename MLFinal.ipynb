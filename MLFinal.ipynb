{
  "nbformat": 4,
  "nbformat_minor": 0,
  "metadata": {
    "colab": {
      "provenance": []
    },
    "kernelspec": {
      "name": "python3",
      "display_name": "Python 3"
    },
    "language_info": {
      "name": "python"
    }
  },
  "cells": [
    {
      "cell_type": "code",
      "execution_count": null,
      "metadata": {
        "colab": {
          "base_uri": "https://localhost:8080/"
        },
        "id": "gQUYCTnWQ1Is",
        "outputId": "6106899f-399f-4cd6-94d7-33ad7a5c6712"
      },
      "outputs": [
        {
          "output_type": "stream",
          "name": "stdout",
          "text": [
            "Fitting 5 folds for each of 50 candidates, totalling 250 fits\n"
          ]
        },
        {
          "output_type": "stream",
          "name": "stderr",
          "text": [
            "/usr/local/lib/python3.10/dist-packages/xgboost/core.py:158: UserWarning: [07:15:58] WARNING: /workspace/src/learner.cc:740: \n",
            "Parameters: { \"use_label_encoder\" } are not used.\n",
            "\n",
            "  warnings.warn(smsg, UserWarning)\n"
          ]
        },
        {
          "output_type": "stream",
          "name": "stdout",
          "text": [
            "Best Parameters: {'subsample': 1.0, 'n_estimators': 300, 'min_child_weight': 3, 'max_depth': 7, 'learning_rate': 0.05, 'gamma': 0, 'colsample_bytree': 0.6}\n",
            "Best AUC Score from tuning: 0.9278211077879138\n",
            "Validation AUC Score after tuning: 0.9251774024221552\n",
            "Submission file created: submission_xgb.csv\n"
          ]
        }
      ],
      "source": [
        "import pandas as pd\n",
        "from sklearn.model_selection import train_test_split, RandomizedSearchCV\n",
        "from sklearn.preprocessing import LabelEncoder\n",
        "from sklearn.impute import SimpleImputer\n",
        "from sklearn.metrics import roc_auc_score\n",
        "from xgboost import XGBClassifier\n",
        "import numpy as np\n",
        "\n",
        "train_df = pd.read_csv('train_final.csv')\n",
        "test_df = pd.read_csv('test_final (1).csv')\n",
        "\n",
        "categorical_columns = train_df.select_dtypes(include=['object']).columns\n",
        "imputer = SimpleImputer(strategy='most_frequent')\n",
        "\n",
        "train_df[categorical_columns] = imputer.fit_transform(train_df[categorical_columns])\n",
        "test_df[categorical_columns] = imputer.transform(test_df[categorical_columns])\n",
        "\n",
        "label_encoder = LabelEncoder()\n",
        "combined_data = pd.concat([train_df, test_df])\n",
        "\n",
        "combined_data[categorical_columns] = combined_data[categorical_columns].astype(str)\n",
        "\n",
        "for col in categorical_columns:\n",
        "    combined_data[col] = label_encoder.fit_transform(combined_data[col])\n",
        "\n",
        "train_df = combined_data.iloc[:train_df.shape[0], :]\n",
        "test_df = combined_data.iloc[train_df.shape[0]:, :]\n",
        "\n",
        "X = train_df.drop(columns=['income>50K'])\n",
        "y = train_df['income>50K']\n",
        "\n",
        "X = X.drop(columns=['ID'], errors='ignore')\n",
        "test_df = test_df.drop(columns=['income>50K'], errors='ignore')\n",
        "\n",
        "X_train, X_val, y_train, y_val = train_test_split(X, y, test_size=0.2, random_state=42)\n",
        "\n",
        "numeric_columns = X_train.select_dtypes(include=['int64', 'float64']).columns\n",
        "imputer_numeric = SimpleImputer(strategy='median')\n",
        "X_train[numeric_columns] = imputer_numeric.fit_transform(X_train[numeric_columns])\n",
        "X_val[numeric_columns] = imputer_numeric.transform(X_val[numeric_columns])\n",
        "\n",
        "xgb_model = XGBClassifier(use_label_encoder=False, eval_metric='auc', random_state=42)\n",
        "\n",
        "param_grid = {\n",
        "    'n_estimators': [100, 200, 300],\n",
        "    'learning_rate': [0.01, 0.05, 0.1, 0.2],\n",
        "    'max_depth': [3, 5, 7, 10],\n",
        "    'subsample': [0.6, 0.8, 1.0],\n",
        "    'colsample_bytree': [0.6, 0.8, 1.0],\n",
        "    'gamma': [0, 0.1, 0.3],\n",
        "    'min_child_weight': [1, 3, 5]\n",
        "}\n",
        "\n",
        "random_search = RandomizedSearchCV(\n",
        "    xgb_model, param_distributions=param_grid,\n",
        "    scoring='roc_auc', n_iter=50, cv=5, random_state=42, verbose=1, n_jobs=-1\n",
        ")\n",
        "\n",
        "random_search.fit(X_train, y_train)\n",
        "\n",
        "best_xgb_model = random_search.best_estimator_\n",
        "print(\"Best Parameters:\", random_search.best_params_)\n",
        "print(\"Best AUC Score from tuning:\", random_search.best_score_)\n",
        "\n",
        "y_val_pred_proba = best_xgb_model.predict_proba(X_val)[:, 1]\n",
        "auc_score = roc_auc_score(y_val, y_val_pred_proba)\n",
        "print(f\"Validation AUC Score after tuning: {auc_score}\")\n",
        "\n",
        "if 'ID' not in test_df.columns:\n",
        "    test_df['ID'] = range(1, len(test_df) + 1)\n",
        "\n",
        "test_df[numeric_columns] = imputer_numeric.transform(test_df[numeric_columns])\n",
        "\n",
        "test_predictions = best_xgb_model.predict_proba(test_df.drop(columns=['ID'], errors='ignore'))[:, 1]\n",
        "\n",
        "submission = pd.DataFrame({'ID': test_df['ID'], 'Prediction': test_predictions})\n",
        "submission.to_csv('submission_xgb.csv', index=False)\n",
        "\n",
        "print(\"Submission file created: submission_xgb.csv\")\n"
      ]
    }
  ]
}